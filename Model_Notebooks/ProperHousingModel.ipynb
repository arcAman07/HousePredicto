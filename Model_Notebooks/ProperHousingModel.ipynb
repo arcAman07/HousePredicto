{
 "cells": [
  {
   "cell_type": "code",
   "execution_count": 1,
   "id": "75d78b9f",
   "metadata": {},
   "outputs": [],
   "source": [
    "using Pkg"
   ]
  },
  {
   "cell_type": "code",
   "execution_count": 2,
   "id": "d205d573",
   "metadata": {},
   "outputs": [
    {
     "name": "stderr",
     "output_type": "stream",
     "text": [
      "\u001b[32m\u001b[1m    Updating\u001b[22m\u001b[39m registry at `C:\\Users\\amans\\.julia\\registries\\General.toml`\n",
      "\u001b[32m\u001b[1m   Resolving\u001b[22m\u001b[39m package versions...\n",
      "\u001b[32m\u001b[1m  No Changes\u001b[22m\u001b[39m to `C:\\Users\\amans\\.julia\\environments\\v1.7\\Project.toml`\n",
      "\u001b[32m\u001b[1m  No Changes\u001b[22m\u001b[39m to `C:\\Users\\amans\\.julia\\environments\\v1.7\\Manifest.toml`\n"
     ]
    }
   ],
   "source": [
    "Pkg.add(\"Flux\")"
   ]
  },
  {
   "cell_type": "code",
   "execution_count": 3,
   "id": "5c779ba9",
   "metadata": {},
   "outputs": [
    {
     "name": "stderr",
     "output_type": "stream",
     "text": [
      "\u001b[32m\u001b[1m   Resolving\u001b[22m\u001b[39m package versions...\n",
      "\u001b[32m\u001b[1m  No Changes\u001b[22m\u001b[39m to `C:\\Users\\amans\\.julia\\environments\\v1.7\\Project.toml`\n",
      "\u001b[32m\u001b[1m  No Changes\u001b[22m\u001b[39m to `C:\\Users\\amans\\.julia\\environments\\v1.7\\Manifest.toml`\n"
     ]
    }
   ],
   "source": [
    "Pkg.add(\"MLDatasets\")"
   ]
  },
  {
   "cell_type": "code",
   "execution_count": 4,
   "id": "5618c405",
   "metadata": {},
   "outputs": [],
   "source": [
    "using MLDatasets: BostonHousing"
   ]
  },
  {
   "cell_type": "code",
   "execution_count": 5,
   "id": "18caee70",
   "metadata": {},
   "outputs": [
    {
     "data": {
      "text/plain": [
       "\"13×506 Matrix{Float64}\""
      ]
     },
     "execution_count": 5,
     "metadata": {},
     "output_type": "execute_result"
    }
   ],
   "source": [
    "features = BostonHousing.features();\n",
    "\n",
    "summary(features)\n",
    "\"13×506 Matrix{Float64}\""
   ]
  },
  {
   "cell_type": "code",
   "execution_count": 6,
   "id": "1828d89f",
   "metadata": {},
   "outputs": [],
   "source": [
    "target = BostonHousing.targets();"
   ]
  },
  {
   "cell_type": "code",
   "execution_count": 7,
   "id": "79397761",
   "metadata": {},
   "outputs": [],
   "source": [
    "using Flux"
   ]
  },
  {
   "cell_type": "code",
   "execution_count": 8,
   "id": "b3a37d5b",
   "metadata": {},
   "outputs": [
    {
     "data": {
      "text/plain": [
       "Dense(13, 1)        \u001b[90m# 14 parameters\u001b[39m"
      ]
     },
     "execution_count": 8,
     "metadata": {},
     "output_type": "execute_result"
    }
   ],
   "source": [
    "model = Dense(13,1)"
   ]
  },
  {
   "cell_type": "code",
   "execution_count": 9,
   "id": "c2e712d7",
   "metadata": {},
   "outputs": [
    {
     "data": {
      "text/plain": [
       "1×13 Matrix{Float32}:\n",
       " 0.21744  -0.135076  -0.0851018  -0.364029  …  0.396531  -0.647814  -0.642983"
      ]
     },
     "execution_count": 9,
     "metadata": {},
     "output_type": "execute_result"
    }
   ],
   "source": [
    "model.weight"
   ]
  },
  {
   "cell_type": "code",
   "execution_count": 10,
   "id": "582077d3",
   "metadata": {},
   "outputs": [
    {
     "data": {
      "text/plain": [
       "1-element Vector{Float32}:\n",
       " 0.0"
      ]
     },
     "execution_count": 10,
     "metadata": {},
     "output_type": "execute_result"
    }
   ],
   "source": [
    "model.bias"
   ]
  },
  {
   "cell_type": "code",
   "execution_count": 11,
   "id": "54b8a602",
   "metadata": {},
   "outputs": [
    {
     "data": {
      "text/plain": [
       "1×506 Matrix{Float64}:\n",
       " 24.0  21.6  34.7  33.4  36.2  28.7  …  16.8  22.4  20.6  23.9  22.0  11.9"
      ]
     },
     "execution_count": 11,
     "metadata": {},
     "output_type": "execute_result"
    }
   ],
   "source": [
    "target"
   ]
  },
  {
   "cell_type": "code",
   "execution_count": 12,
   "id": "50e5333f",
   "metadata": {},
   "outputs": [
    {
     "data": {
      "text/plain": [
       "13×506 Matrix{Float64}:\n",
       "   0.00632    0.02731    0.02729  …    0.06076    0.10959    0.04741\n",
       "  18.0        0.0        0.0           0.0        0.0        0.0\n",
       "   2.31       7.07       7.07         11.93      11.93      11.93\n",
       "   0.0        0.0        0.0           0.0        0.0        0.0\n",
       "   0.538      0.469      0.469         0.573      0.573      0.573\n",
       "   6.575      6.421      7.185    …    6.976      6.794      6.03\n",
       "  65.2       78.9       61.1          91.0       89.3       80.8\n",
       "   4.09       4.9671     4.9671        2.1675     2.3889     2.505\n",
       "   1.0        2.0        2.0           1.0        1.0        1.0\n",
       " 296.0      242.0      242.0         273.0      273.0      273.0\n",
       "  15.3       17.8       17.8      …   21.0       21.0       21.0\n",
       " 396.9      396.9      392.83        396.9      393.45     396.9\n",
       "   4.98       9.14       4.03          5.64       6.48       7.88"
      ]
     },
     "execution_count": 12,
     "metadata": {},
     "output_type": "execute_result"
    }
   ],
   "source": [
    "features"
   ]
  },
  {
   "cell_type": "code",
   "execution_count": 13,
   "id": "be0a837e",
   "metadata": {},
   "outputs": [],
   "source": [
    "using Flux: train!"
   ]
  },
  {
   "cell_type": "code",
   "execution_count": 14,
   "id": "00a18bb7",
   "metadata": {},
   "outputs": [
    {
     "name": "stderr",
     "output_type": "stream",
     "text": [
      "\u001b[32m\u001b[1m   Resolving\u001b[22m\u001b[39m package versions...\n",
      "\u001b[32m\u001b[1m  No Changes\u001b[22m\u001b[39m to `C:\\Users\\amans\\.julia\\environments\\v1.7\\Project.toml`\n",
      "\u001b[32m\u001b[1m  No Changes\u001b[22m\u001b[39m to `C:\\Users\\amans\\.julia\\environments\\v1.7\\Manifest.toml`\n"
     ]
    }
   ],
   "source": [
    "Pkg.add(\"Printf\")"
   ]
  },
  {
   "cell_type": "code",
   "execution_count": 15,
   "id": "3134f39c",
   "metadata": {},
   "outputs": [],
   "source": [
    "using Printf"
   ]
  },
  {
   "cell_type": "code",
   "execution_count": 16,
   "id": "3c80abc7",
   "metadata": {},
   "outputs": [
    {
     "data": {
      "text/plain": [
       "Descent(0.1)"
      ]
     },
     "execution_count": 16,
     "metadata": {},
     "output_type": "execute_result"
    }
   ],
   "source": [
    "opt = Descent()"
   ]
  },
  {
   "cell_type": "code",
   "execution_count": 17,
   "id": "5a381cfd",
   "metadata": {},
   "outputs": [
    {
     "data": {
      "text/plain": [
       "13×375 Matrix{Float64}:\n",
       "   0.00632    0.02731    0.02729    0.03237  …    8.26725   11.1081   18.4982\n",
       "  18.0        0.0        0.0        0.0           0.0        0.0       0.0\n",
       "   2.31       7.07       7.07       2.18         18.1       18.1      18.1\n",
       "   0.0        0.0        0.0        0.0           1.0        0.0       0.0\n",
       "   0.538      0.469      0.469      0.458         0.668      0.668     0.668\n",
       "   6.575      6.421      7.185      6.998    …    5.875      4.906     4.138\n",
       "  65.2       78.9       61.1       45.8          89.6      100.0     100.0\n",
       "   4.09       4.9671     4.9671     6.0622        1.1296     1.1742    1.137\n",
       "   1.0        2.0        2.0        3.0          24.0       24.0      24.0\n",
       " 296.0      242.0      242.0      222.0         666.0      666.0     666.0\n",
       "  15.3       17.8       17.8       18.7      …   20.2       20.2      20.2\n",
       " 396.9      396.9      392.83     394.63        347.88     396.9     396.9\n",
       "   4.98       9.14       4.03       2.94          8.88      34.77     37.97"
      ]
     },
     "execution_count": 17,
     "metadata": {},
     "output_type": "execute_result"
    }
   ],
   "source": [
    "x_train = features[:,1:375]"
   ]
  },
  {
   "cell_type": "code",
   "execution_count": 18,
   "id": "f6a3b46a",
   "metadata": {},
   "outputs": [
    {
     "data": {
      "text/plain": [
       "13×131 Matrix{Float64}:\n",
       "  19.6091   15.288     9.82349   23.6482  …    0.06076    0.10959    0.04741\n",
       "   0.0       0.0       0.0        0.0          0.0        0.0        0.0\n",
       "  18.1      18.1      18.1       18.1         11.93      11.93      11.93\n",
       "   0.0       0.0       0.0        0.0          0.0        0.0        0.0\n",
       "   0.671     0.671     0.671      0.671        0.573      0.573      0.573\n",
       "   7.313     6.649     6.794      6.38    …    6.976      6.794      6.03\n",
       "  97.9      93.3      98.8       96.2         91.0       89.3       80.8\n",
       "   1.3163    1.3449    1.358      1.3861       2.1675     2.3889     2.505\n",
       "  24.0      24.0      24.0       24.0          1.0        1.0        1.0\n",
       " 666.0     666.0     666.0      666.0        273.0      273.0      273.0\n",
       "  20.2      20.2      20.2       20.2     …   21.0       21.0       21.0\n",
       " 396.9     363.02    396.9      396.9        396.9      393.45     396.9\n",
       "  13.44     23.24     21.24      23.69         5.64       6.48       7.88"
      ]
     },
     "execution_count": 18,
     "metadata": {},
     "output_type": "execute_result"
    }
   ],
   "source": [
    "x_test = features[:,376:506]"
   ]
  },
  {
   "cell_type": "code",
   "execution_count": 19,
   "id": "04bf02b7",
   "metadata": {},
   "outputs": [
    {
     "data": {
      "text/plain": [
       "1×375 Matrix{Float64}:\n",
       " 24.0  21.6  34.7  33.4  36.2  28.7  …  50.0  50.0  50.0  50.0  13.8  13.8"
      ]
     },
     "execution_count": 19,
     "metadata": {},
     "output_type": "execute_result"
    }
   ],
   "source": [
    "y_train = target[:,1:375]"
   ]
  },
  {
   "cell_type": "code",
   "execution_count": 20,
   "id": "37c046cc",
   "metadata": {},
   "outputs": [
    {
     "data": {
      "text/plain": [
       "1×131 Matrix{Float64}:\n",
       " 15.0  13.9  13.3  13.1  10.2  10.4  …  16.8  22.4  20.6  23.9  22.0  11.9"
      ]
     },
     "execution_count": 20,
     "metadata": {},
     "output_type": "execute_result"
    }
   ],
   "source": [
    "y_test = target[:,376:506]"
   ]
  },
  {
   "cell_type": "code",
   "execution_count": 21,
   "id": "3032cd06",
   "metadata": {},
   "outputs": [
    {
     "data": {
      "text/plain": [
       "loss (generic function with 1 method)"
      ]
     },
     "execution_count": 21,
     "metadata": {},
     "output_type": "execute_result"
    }
   ],
   "source": [
    "loss(x, y) = Flux.Losses.mse(model(x), y)"
   ]
  },
  {
   "cell_type": "code",
   "execution_count": 22,
   "id": "7bfba409",
   "metadata": {},
   "outputs": [
    {
     "data": {
      "text/plain": [
       "23179.83066960902"
      ]
     },
     "execution_count": 22,
     "metadata": {},
     "output_type": "execute_result"
    }
   ],
   "source": [
    "loss(x_train,y_train)"
   ]
  },
  {
   "cell_type": "code",
   "execution_count": 23,
   "id": "06040c66",
   "metadata": {},
   "outputs": [
    {
     "data": {
      "text/plain": [
       "1-element Vector{Tuple{Matrix{Float64}, Matrix{Float64}}}:\n",
       " ([0.00632 0.02731 … 11.1081 18.4982; 18.0 0.0 … 0.0 0.0; … ; 396.9 396.9 … 396.9 396.9; 4.98 9.14 … 34.77 37.97], [24.0 21.6 … 13.8 13.8])"
      ]
     },
     "execution_count": 23,
     "metadata": {},
     "output_type": "execute_result"
    }
   ],
   "source": [
    "data = [(x_train,y_train)]"
   ]
  },
  {
   "cell_type": "code",
   "execution_count": 24,
   "id": "ef198154",
   "metadata": {},
   "outputs": [
    {
     "data": {
      "text/plain": [
       "Params([Float32[0.21743962 -0.1350759 … -0.64781356 -0.64298284], Float32[0.0]])"
      ]
     },
     "execution_count": 24,
     "metadata": {},
     "output_type": "execute_result"
    }
   ],
   "source": [
    "parameters = Flux.params(model)"
   ]
  },
  {
   "cell_type": "code",
   "execution_count": 25,
   "id": "4ffd2f8a",
   "metadata": {},
   "outputs": [],
   "source": [
    "# train!(loss, parameters, data, opt)"
   ]
  },
  {
   "cell_type": "code",
   "execution_count": 27,
   "id": "b580d967",
   "metadata": {},
   "outputs": [
    {
     "data": {
      "text/plain": [
       "Params([Float32[0.21743962 -0.1350759 … -0.64781356 -0.64298284], Float32[0.0]])"
      ]
     },
     "execution_count": 27,
     "metadata": {},
     "output_type": "execute_result"
    }
   ],
   "source": [
    "parameters"
   ]
  },
  {
   "cell_type": "code",
   "execution_count": 28,
   "id": "0e4782c9",
   "metadata": {},
   "outputs": [],
   "source": [
    "train!(loss, parameters, data, opt)"
   ]
  },
  {
   "cell_type": "code",
   "execution_count": 29,
   "id": "e0ef2c5d",
   "metadata": {},
   "outputs": [
    {
     "data": {
      "text/plain": [
       "4.799763069466112e13"
      ]
     },
     "execution_count": 29,
     "metadata": {},
     "output_type": "execute_result"
    }
   ],
   "source": [
    "loss(x_train, y_train)"
   ]
  },
  {
   "cell_type": "code",
   "execution_count": 30,
   "id": "fdd9e9f2",
   "metadata": {},
   "outputs": [
    {
     "data": {
      "text/plain": [
       "Params([Float32[6.555124 472.28876 … 10853.026 276.44418], Float32[27.786633]])"
      ]
     },
     "execution_count": 30,
     "metadata": {},
     "output_type": "execute_result"
    }
   ],
   "source": [
    "parameters"
   ]
  },
  {
   "cell_type": "code",
   "execution_count": 31,
   "id": "578e9787",
   "metadata": {},
   "outputs": [
    {
     "data": {
      "text/plain": [
       "0"
      ]
     },
     "execution_count": 31,
     "metadata": {},
     "output_type": "execute_result"
    }
   ],
   "source": [
    "correct_pred = 0\n",
    "total_pred = 0\n",
    "net_loss = 0"
   ]
  },
  {
   "cell_type": "code",
   "execution_count": 32,
   "id": "070f294e",
   "metadata": {},
   "outputs": [
    {
     "name": "stdout",
     "output_type": "stream",
     "text": [
      "[9.826939356993165e6][9.454164454118874e6][9.83043805600698e6][9.82681715192926e6][9.798238207007267e6][9.818422562558185e6][9.83090743658931e6][9.832881548636736e6][9.833130200762462e6][8.614608204501553e6][9.83170304612922e6][9.834101503989803e6][9.817746805102084e6][9.574483470275648e6][9.830280279492566e6][9.799359609313121e6][9.60162469159931e6][9.828424214295264e6][9.81840313512466e6][9.822191560221812e6][9.775883992478337e6][9.825216084220879e6][9.788830617212007e6][9.83497847111827e6][9.160318865558626e6][9.833943957389494e6][9.832152218302663e6][9.606503859744929e6][9.825264043475026e6][9.077966190717056e6][9.703625163371332e6][9.543023117904989e6][9.126318980375929e6][8.937383508264797e6][7.471113287514501e6][5.550095966948482e6][5.905281400394968e6][5.840646165635554e6][7.814064005829866e6][6.48707730418292e6][5.82281897422011e6][5.745007011756919e6][6.890371571523702e6][5.703549423276923e6][6.012156040022548e6][8.98255128377598e6][8.988185533915104e6][8.666380850310044e6][5.527977439568061e6][5.514385655745492e6][5.60139581048418e6][5.723854072398647e6][5.6920278465841655e6][6.538334856549761e6][6.177338583845054e6][6.406468726028364e6][6.397747095855113e6][6.543539745602895e6][6.590777265665624e6][6.607055187972766e6][6.708740673005245e6][5.81125902296158e6][5.627446655996229e6][6.25654966593434e6][9.822600498237316e6][9.76087114769282e6][9.708593883987041e6][9.817965965422986e6][9.721420302421028e6][8.13021296795434e6][5.984344245739601e6][8.969290568208793e6][9.73452009817564e6][9.829415116586085e6][8.823130184154905e6][5.515092983046719e6][9.37695075465607e6][9.68955003787435e6][9.602022775708305e6][5.586996931760985e6][6.0542775098462235e6][5.617868526624105e6][5.528961861948638e6][8.450792021094104e6][9.804741253598504e6][8.277051821886334e6][9.75201785016389e6][9.802263615330297e6][9.77931085328895e6][9.77283856522646e6][9.06611292709072e6][5.737201441468497e6][9.111223582468215e6][9.477866483503606e6][9.758742135720402e6][9.80455423853086e6][9.797713269905835e6][9.750788976175556e6][9.534969057067871e6][9.342806176467873e6][8.807170321047409e6][9.813637575903703e6][9.314170761200761e6][9.6393868598917e6][9.662873219216723e6][9.771040131591951e6][9.74566202665927e6][9.772999106553223e6][9.687214592032103e6][9.449820107253833e6][9.659947009305663e6][9.751481847200999e6][9.65783271675483e6][1.0159653528259017e7][9.616633610598542e6][9.33961030914669e6][1.0115839581783358e7][1.0162848474252565e7][7.546161754465326e6][7.527706312289134e6][7.466723727069639e6][7.580070320261764e6][7.574389015806171e6][7.565239635680172e6][7.567113807525621e6][7.589556632847662e6][6.573021248559806e6][6.638658490607026e6][6.661594813155233e6][6.621556615653814e6][6.645147276290207e6]"
     ]
    }
   ],
   "source": [
    "for i in 376:506\n",
    "    x = features[:,i]\n",
    "    y = target[i]\n",
    "    prediction = model(x)\n",
    "    loss_value = loss(x,y)\n",
    "    if x==y\n",
    "        correct_pred += 1\n",
    "    end\n",
    "    total_pred += 1\n",
    "    net_loss += loss_value\n",
    "    println(prediction)\n",
    "end\n",
    "        "
   ]
  },
  {
   "cell_type": "code",
   "execution_count": 33,
   "id": "c39126bb",
   "metadata": {},
   "outputs": [
    {
     "name": "stdout",
     "output_type": "stream",
     "text": [
      "0.0"
     ]
    }
   ],
   "source": [
    "print(correct_pred/total_pred)"
   ]
  },
  {
   "cell_type": "code",
   "execution_count": 34,
   "id": "59795107",
   "metadata": {},
   "outputs": [
    {
     "name": "stdout",
     "output_type": "stream",
     "text": [
      "9.643459511006354e15"
     ]
    }
   ],
   "source": [
    "print(net_loss)"
   ]
  },
  {
   "cell_type": "code",
   "execution_count": 35,
   "id": "81414bc6",
   "metadata": {},
   "outputs": [],
   "source": [
    "using BSON: @save"
   ]
  },
  {
   "cell_type": "code",
   "execution_count": 36,
   "id": "500b75ed",
   "metadata": {},
   "outputs": [],
   "source": [
    "@save \"mymodel.bson\" model"
   ]
  },
  {
   "cell_type": "code",
   "execution_count": null,
   "id": "df8d7c0c",
   "metadata": {},
   "outputs": [],
   "source": []
  }
 ],
 "metadata": {
  "kernelspec": {
   "display_name": "Julia 1.7.1",
   "language": "julia",
   "name": "julia-1.7"
  },
  "language_info": {
   "file_extension": ".jl",
   "mimetype": "application/julia",
   "name": "julia",
   "version": "1.7.1"
  }
 },
 "nbformat": 4,
 "nbformat_minor": 5
}
